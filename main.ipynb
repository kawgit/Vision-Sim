{
 "cells": [
  {
   "cell_type": "code",
   "execution_count": 1,
   "metadata": {},
   "outputs": [
    {
     "name": "stdout",
     "output_type": "stream",
     "text": [
      "device: mps\n"
     ]
    }
   ],
   "source": [
    "import numpy as np\n",
    "import torch\n",
    "\n",
    "from settings import *\n",
    "from device import device\n",
    "from autoencoder import Encoder, Decoder, Autoencoder\n",
    "from dataloader import build_autoencoder_dataloader, build_stepper_dataloader\n",
    "from stepper import Stepper\n",
    "from trainer import fit\n",
    "\n",
    "from utils import load_video, img_display, img_save"
   ]
  },
  {
   "cell_type": "code",
   "execution_count": 2,
   "metadata": {},
   "outputs": [
    {
     "name": "stdout",
     "output_type": "stream",
     "text": [
      "torch.Size([100, 3, 360, 640]) tensor(0.0702, device='mps:0') tensor(0.0750, device='mps:0')\n"
     ]
    },
    {
     "data": {
      "image/png": "[encoded data removed]",
      "text/plain": [
       "<Figure size 640x480 with 1 Axes>"
      ]
     },
     "metadata": {},
     "output_type": "display_data"
    }
   ],
   "source": [
    "frames = load_video(video_path, start=0, num_frames=100, num_frames_per_frame=5)\n",
    "\n",
    "print(frames.shape, frames.mean(), frames.std())\n",
    "\n",
    "img_display(frames[0])\n"
   ]
  },
  {
   "cell_type": "code",
   "execution_count": 3,
   "metadata": {},
   "outputs": [],
   "source": [
    "encoder = Encoder().to(device)\n",
    "decoder = Decoder().to(device)\n",
    "\n",
    "autoencoder = Autoencoder(encoder, decoder).to(device)"
   ]
  },
  {
   "cell_type": "code",
   "execution_count": 4,
   "metadata": {},
   "outputs": [
    {
     "name": "stdout",
     "output_type": "stream",
     "text": [
      "6\n"
     ]
    }
   ],
   "source": [
    "autoencoder_dataloader = build_autoencoder_dataloader(frames)\n",
    "\n",
    "print(len(autoencoder_dataloader))"
   ]
  },
  {
   "cell_type": "code",
   "execution_count": 5,
   "metadata": {},
   "outputs": [
    {
     "name": "stdout",
     "output_type": "stream",
     "text": [
      "Epoch: 0, Batch: 0, Loss: 0.010377153754234314\n",
      "Epoch: 0, Loss: 0.009527354501187801\n",
      "Training completed\n"
     ]
    }
   ],
   "source": [
    "autoencoder_criterion = torch.nn.MSELoss()\n",
    "autoencoder_optimizer = torch.optim.AdamW(autoencoder.parameters(), lr=3e-4)\n",
    "\n",
    "def autoencoder_after_batch(self, firing, epoch_idx, batch_idx, batch_loss, batch_xs, batch_outputs):\n",
    "    setattr(self, 'running_loss', getattr(self, 'running_loss', 0) + batch_loss)\n",
    "    \n",
    "    if firing:\n",
    "\n",
    "        print(f'Epoch: {epoch_idx}, Batch: {batch_idx}, Loss: {self.running_loss / (batch_idx + 1)}')\n",
    "\n",
    "        img_save(batch_xs[0], 'input.png')\n",
    "        img_save(batch_outputs[0], 'output.png')\n",
    "\n",
    "\n",
    "def autoencoder_after_epoch(self, firing, epoch_idx, loss):\n",
    "    if firing:\n",
    "        print(f'Epoch: {epoch_idx}, Loss: {loss}')\n",
    "\n",
    "fit(autoencoder, autoencoder_criterion, autoencoder_optimizer, autoencoder_dataloader, 1, autoencoder_after_batch, autoencoder_after_epoch)"
   ]
  },
  {
   "cell_type": "code",
   "execution_count": 6,
   "metadata": {},
   "outputs": [],
   "source": [
    "stepper = Stepper(encoder, decoder).to(device)"
   ]
  },
  {
   "cell_type": "code",
   "execution_count": 7,
   "metadata": {},
   "outputs": [
    {
     "name": "stdout",
     "output_type": "stream",
     "text": [
      "13\n"
     ]
    }
   ],
   "source": [
    "stepper_dataloader = build_stepper_dataloader(frames)\n",
    "\n",
    "print(len(stepper_dataloader))"
   ]
  },
  {
   "cell_type": "code",
   "execution_count": 8,
   "metadata": {},
   "outputs": [
    {
     "name": "stdout",
     "output_type": "stream",
     "text": [
      "Epoch: 0, Batch: 0, Loss: 0.007632616441696882\n",
      "Epoch: 0, Batch: 8, Loss: 0.009654658225675425\n",
      "Epoch: 0, Loss: 0.010625392198562622\n",
      "Epoch: 1, Batch: 3, Loss: 0.03864473570138216\n",
      "Epoch: 1, Batch: 11, Loss: 0.01760488053938995\n",
      "Epoch: 2, Batch: 7, Loss: 0.03366979013662785\n",
      "Epoch: 3, Batch: 2, Loss: 0.10518892544011275\n",
      "Epoch: 3, Batch: 9, Loss: 0.03563750209286809\n",
      "Epoch: 3, Loss: 0.008183272555470467\n",
      "Training completed\n"
     ]
    }
   ],
   "source": [
    "stepper_criterion = torch.nn.MSELoss()\n",
    "stepper_optimizer = torch.optim.AdamW(stepper.parameters(), lr=3e-4)\n",
    "\n",
    "def stepper_after_batch(self, firing, epoch_idx, batch_idx, batch_loss, batch_xs, batch_outputs):\n",
    "    setattr(self, 'running_loss', getattr(self, 'running_loss', 0) + batch_loss)\n",
    "    \n",
    "    if firing:\n",
    "\n",
    "        print(f'Epoch: {epoch_idx}, Batch: {batch_idx}, Loss: {self.running_loss / (batch_idx + 1)}')\n",
    "\n",
    "        img_save(batch_xs[-1][-1], 'input.png')\n",
    "        img_save(batch_outputs[-1][-1], 'output.png')\n",
    "\n",
    "\n",
    "def stepper_after_epoch(self, firing, epoch_idx, loss):\n",
    "    if firing:\n",
    "        print(f'Epoch: {epoch_idx}, Loss: {loss}')\n",
    "\n",
    "fit(stepper, stepper_criterion, stepper_optimizer, stepper_dataloader, 4, stepper_after_batch, stepper_after_epoch)"
   ]
  },
  {
   "cell_type": "code",
   "execution_count": 9,
   "metadata": {},
   "outputs": [],
   "source": [
    "torch.save(stepper.state_dict(), \"stepper.pt\")"
   ]
  },
  {
   "cell_type": "code",
   "execution_count": 10,
   "metadata": {},
   "outputs": [],
   "source": [
    "# stepper.load_state_dict(torch.load(\"stepper.pt\"))"
   ]
  },
  {
   "cell_type": "code",
   "execution_count": 13,
   "metadata": {},
   "outputs": [
    {
     "ename": "RuntimeError",
     "evalue": "MPS backend out of memory (MPS allocated: 20.33 GB, other allocations: 8.36 MB, max allowed: 20.40 GB). Tried to allocate 290.04 MB on private pool. Use PYTORCH_MPS_HIGH_WATERMARK_RATIO=0.0 to disable upper limit for memory allocations (may cause system failure).",
     "output_type": "error",
     "traceback": [
      "\u001b[0;31m---------------------------------------------------------------------------\u001b[0m",
      "\u001b[0;31mRuntimeError\u001b[0m                              Traceback (most recent call last)",
      "Cell \u001b[0;32mIn[13], line 1\u001b[0m\n\u001b[0;32m----> 1\u001b[0m new_frames \u001b[38;5;241m=\u001b[39m \u001b[43mstepper\u001b[49m\u001b[38;5;241;43m.\u001b[39;49m\u001b[43mgenerate\u001b[49m\u001b[43m(\u001b[49m\u001b[43mframes\u001b[49m\u001b[43m,\u001b[49m\u001b[43m \u001b[49m\u001b[38;5;241;43m50\u001b[39;49m\u001b[43m)\u001b[49m\n",
      "File \u001b[0;32m/Volumes/Case-Sensitive/Projects/Vision-Sim/stepper.py:57\u001b[0m, in \u001b[0;36mgenerate\u001b[0;34m(self, frames, num_frames)\u001b[0m\n\u001b[1;32m      0\u001b[0m <Error retrieving source code with stack_data see ipython/ipython#13598>\n",
      "\u001b[0;31mRuntimeError\u001b[0m: MPS backend out of memory (MPS allocated: 20.33 GB, other allocations: 8.36 MB, max allowed: 20.40 GB). Tried to allocate 290.04 MB on private pool. Use PYTORCH_MPS_HIGH_WATERMARK_RATIO=0.0 to disable upper limit for memory allocations (may cause system failure)."
     ]
    }
   ],
   "source": [
    "new_frames = stepper.generate(frames, 50)"
   ]
  },
  {
   "cell_type": "code",
   "execution_count": 12,
   "metadata": {},
   "outputs": [
    {
     "name": "stdout",
     "output_type": "stream",
     "text": [
      "(150, 360, 640, 3)\n",
      "14.344970264274691 16.593731823296938\n"
     ]
    }
   ],
   "source": [
    "from utils import write_video\n",
    "\n",
    "\n",
    "write_video(new_frames, 'output.mp4')"
   ]
  }
 ],
 "metadata": {
  "kernelspec": {
   "display_name": "venv",
   "language": "python",
   "name": "python3"
  },
  "language_info": {
   "name": "python",
   "version": "3.12.4"
  }
 },
 "nbformat": 4,
 "nbformat_minor": 2
}
